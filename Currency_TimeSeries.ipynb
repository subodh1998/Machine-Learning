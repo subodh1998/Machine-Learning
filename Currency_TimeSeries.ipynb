{
 "cells": [
  {
   "cell_type": "code",
   "execution_count": null,
   "metadata": {},
   "outputs": [],
   "source": [
    "import statsmodels  \n",
    "statsmodels.__version__\n",
    "#pip install statsmodels --upgrade --user (if version is older of statsmodel.)\n",
    "\n",
    "import pandas as pd\n",
    "import numpy as np\n",
    "import plotly.graph_objects as go\n",
    "import matplotlib.pyplot as plt\n",
    "import warnings\n",
    "warnings.filterwarnings('ignore')\n",
    "\n",
    "## 5 Differernt models for time series analysis\n",
    "from statsmodels.tsa.seasonal import seasonal_decompose\n",
    "from statsmodels.tsa.holtwinters import SimpleExpSmoothing\n",
    "from statsmodels.tsa.holtwinters import ExponentialSmoothing\n",
    "from statsmodels.tsa.ar_model import AutoReg\n",
    "from statsmodels.tsa.arima_model import ARMA\n",
    "from statsmodels.tsa.arima_model import ARIMA\n",
    "\n",
    "from sklearn.metrics import mean_absolute_error"
   ]
  },
  {
   "cell_type": "code",
   "execution_count": null,
   "metadata": {},
   "outputs": [],
   "source": [
    "data=pd.read_csv('currency.csv',parse_dates=['Time'],index_col=['Time'])"
   ]
  },
  {
   "cell_type": "markdown",
   "metadata": {},
   "source": [
    "# Function Definition for Preprocessing\n",
    "\n"
   ]
  },
  {
   "cell_type": "code",
   "execution_count": null,
   "metadata": {},
   "outputs": [],
   "source": [
    "def preprocessor(data):\n",
    "    #sorting index\n",
    "    data=data.sort_index()\n",
    "    #get & set frequency\n",
    "    data.index.freq = pd.infer_freq(data.index)\n",
    "    #test train split\n",
    "    split=int(len(data)*0.7) \n",
    "    data.index.freq=pd.infer_freq(data.index)\n",
    "    train = data.iloc[:split,0] #151 lines in train\n",
    "    test = data.iloc[split:,0]\n",
    "    \n",
    "    return train,test\n",
    "    "
   ]
  },
  {
   "cell_type": "code",
   "execution_count": null,
   "metadata": {},
   "outputs": [],
   "source": [
    "train ,test = preprocessor(data)"
   ]
  },
  {
   "cell_type": "code",
   "execution_count": null,
   "metadata": {},
   "outputs": [],
   "source": [
    "train"
   ]
  },
  {
   "cell_type": "code",
   "execution_count": null,
   "metadata": {},
   "outputs": [],
   "source": [
    "test"
   ]
  },
  {
   "cell_type": "code",
   "execution_count": null,
   "metadata": {},
   "outputs": [],
   "source": [
    "pd.infer_freq(data.index)"
   ]
  },
  {
   "cell_type": "code",
   "execution_count": null,
   "metadata": {},
   "outputs": [],
   "source": [
    "def mean_absolute_percentage_error(actual,predicted):\n",
    "    return round(np.mean(np.abs(100*(actual-predicted)/actual)),2)"
   ]
  },
  {
   "cell_type": "markdown",
   "metadata": {},
   "source": [
    "HoltWinters Model"
   ]
  },
  {
   "cell_type": "code",
   "execution_count": null,
   "metadata": {
    "scrolled": true
   },
   "outputs": [],
   "source": [
    "model=ExponentialSmoothing(train, trend= 'multiplicative'\n",
    ", seasonal='multiplicative',damped=True,seasonal_periods=30)  \n",
    "model_fit=model.fit()\n",
    "\n",
    "\n",
    "pred=model_fit.predict(start=test.index[0],end=test.index[-1])\n",
    "MAPE=mean_absolute_percentage_error(test,pred)\n",
    "\n",
    "fig = go.Figure()\n",
    "fig.add_trace(go.Scatter(x=train.index,y=train, mode='lines',name='Train'))\n",
    "fig.add_trace(go.Scatter(x=test.index,y=test, mode='lines',name='Test'))\n",
    "fig.add_trace(go.Scatter(x=pred.index,y=pred, mode='lines',name='Predict'))\n",
    "fig.update_layout(title='Accuracy:{}%'.format(100-MAPE))\n",
    "fig.show()"
   ]
  },
  {
   "cell_type": "markdown",
   "metadata": {},
   "source": [
    "ARIMA"
   ]
  },
  {
   "cell_type": "code",
   "execution_count": null,
   "metadata": {},
   "outputs": [],
   "source": [
    "#step1\n",
    "model=ARIMA(train,order=(2,1,2),freq='D')  \n",
    "#AR=2 I=1 MA=2\n",
    "model_fit=model.fit(disp = False)\n",
    "\n",
    "#step2 & step 3\n",
    "# Prediction and accuracy calculation\n",
    "pred=model_fit.predict(start=test.index[0],end=test.index[-1],typ='levels')\n",
    "MAPE=mean_absolute_percentage_error(test,pred)\n",
    "\n",
    "#step4\n",
    "#plotting the figure\n",
    "fig = go.Figure()\n",
    "fig.add_trace(go.Scatter(x=train.index,y=train, mode='lines',name='Train'))\n",
    "fig.add_trace(go.Scatter(x=test.index,y=test, mode='lines',name='Test'))\n",
    "fig.add_trace(go.Scatter(x=pred.index,y=pred, mode='lines',name='Predict'))\n",
    "fig.update_layout(title='Accuracy:{}%'.format(100-MAPE))\n",
    "fig.show()"
   ]
  },
  {
   "cell_type": "markdown",
   "metadata": {},
   "source": [
    "Double Exponential "
   ]
  },
  {
   "cell_type": "code",
   "execution_count": null,
   "metadata": {},
   "outputs": [],
   "source": [
    "model=ExponentialSmoothing(train, trend= 'additive', seasonal='additive',seasonal_periods=30)  \n",
    "model_fit=model.fit()\n",
    "\n",
    "\n",
    "pred=model_fit.predict(start=test.index[0],end=test.index[-1])\n",
    "MAPE=mean_absolute_percentage_error(test,pred)\n",
    "\n",
    "fig = go.Figure()\n",
    "fig.add_trace(go.Scatter(x=train.index,y=train, mode='lines',name='Train'))\n",
    "fig.add_trace(go.Scatter(x=test.index,y=test, mode='lines',name='Test'))\n",
    "fig.add_trace(go.Scatter(x=pred.index,y=pred, mode='lines',name='Predict'))\n",
    "fig.update_layout(title='Accuracy:{}%'.format(100-MAPE))\n",
    "fig.show()"
   ]
  },
  {
   "cell_type": "markdown",
   "metadata": {},
   "source": [
    "Simple Exponential Model"
   ]
  },
  {
   "cell_type": "code",
   "execution_count": null,
   "metadata": {},
   "outputs": [],
   "source": [
    "model=SimpleExpSmoothing(train \n",
    ")  \n",
    "model_fit=model.fit()\n",
    "\n",
    "\n",
    "pred=model_fit.predict(start=test.index[0],end=test.index[-1])\n",
    "MAPE=mean_absolute_percentage_error(test,pred)\n",
    "\n",
    "fig = go.Figure()\n",
    "fig.add_trace(go.Scatter(x=train.index,y=train, mode='lines',name='Train'))\n",
    "fig.add_trace(go.Scatter(x=test.index,y=test, mode='lines',name='Test'))\n",
    "fig.add_trace(go.Scatter(x=pred.index,y=pred, mode='lines',name='Predict'))\n",
    "fig.update_layout(title='Accuracy:{}%'.format(100-MAPE))\n",
    "fig.show()"
   ]
  },
  {
   "cell_type": "markdown",
   "metadata": {},
   "source": [
    "Here Double Exponential Model is more accurate"
   ]
  },
  {
   "cell_type": "code",
   "execution_count": null,
   "metadata": {},
   "outputs": [],
   "source": []
  },
  {
   "cell_type": "code",
   "execution_count": null,
   "metadata": {},
   "outputs": [],
   "source": []
  },
  {
   "cell_type": "code",
   "execution_count": null,
   "metadata": {},
   "outputs": [],
   "source": []
  },
  {
   "cell_type": "code",
   "execution_count": null,
   "metadata": {},
   "outputs": [],
   "source": []
  },
  {
   "cell_type": "code",
   "execution_count": null,
   "metadata": {},
   "outputs": [],
   "source": []
  },
  {
   "cell_type": "code",
   "execution_count": null,
   "metadata": {},
   "outputs": [],
   "source": []
  },
  {
   "cell_type": "code",
   "execution_count": null,
   "metadata": {},
   "outputs": [],
   "source": []
  },
  {
   "cell_type": "code",
   "execution_count": null,
   "metadata": {},
   "outputs": [],
   "source": []
  },
  {
   "cell_type": "code",
   "execution_count": null,
   "metadata": {},
   "outputs": [],
   "source": []
  },
  {
   "cell_type": "code",
   "execution_count": null,
   "metadata": {},
   "outputs": [],
   "source": []
  },
  {
   "cell_type": "code",
   "execution_count": null,
   "metadata": {},
   "outputs": [],
   "source": []
  },
  {
   "cell_type": "code",
   "execution_count": null,
   "metadata": {},
   "outputs": [],
   "source": []
  },
  {
   "cell_type": "code",
   "execution_count": null,
   "metadata": {},
   "outputs": [],
   "source": []
  },
  {
   "cell_type": "code",
   "execution_count": null,
   "metadata": {},
   "outputs": [],
   "source": []
  },
  {
   "cell_type": "code",
   "execution_count": null,
   "metadata": {},
   "outputs": [],
   "source": []
  }
 ],
 "metadata": {
  "kernelspec": {
   "display_name": "Python 3",
   "language": "python",
   "name": "python3"
  },
  "language_info": {
   "codemirror_mode": {
    "name": "ipython",
    "version": 3
   },
   "file_extension": ".py",
   "mimetype": "text/x-python",
   "name": "python",
   "nbconvert_exporter": "python",
   "pygments_lexer": "ipython3",
   "version": "3.7.6"
  }
 },
 "nbformat": 4,
 "nbformat_minor": 4
}
