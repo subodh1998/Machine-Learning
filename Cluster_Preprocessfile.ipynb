{
 "cells": [
  {
   "cell_type": "code",
   "execution_count": null,
   "metadata": {},
   "outputs": [],
   "source": [
    "import pandas as pd\n",
    "import numpy as np\n",
    "import plotly.graph_objects as go\n",
    "import plotly.express as px\n",
    "import matplotlib.pyplot as plt\n",
    "import warnings\n",
    "warnings.filterwarnings('ignore')\n",
    "from sklearn.preprocessing import LabelEncoder\n",
    "from sklearn.cluster import KMeans\n",
    "from sklearn.decomposition import PCA"
   ]
  },
  {
   "cell_type": "code",
   "execution_count": null,
   "metadata": {},
   "outputs": [],
   "source": [
    "data=pd.read_csv('Cluster.csv')\n",
    "data_main=data.copy()"
   ]
  },
  {
   "cell_type": "markdown",
   "metadata": {},
   "source": [
    "## Dimentionality Reduction using PCA"
   ]
  },
  {
   "cell_type": "code",
   "execution_count": null,
   "metadata": {},
   "outputs": [],
   "source": [
    "model_PCA = PCA(n_components=3)\n",
    "PCs = model_PCA.fit_transform(data)"
   ]
  },
  {
   "cell_type": "markdown",
   "metadata": {},
   "source": [
    "Assign a DataFrame to PCs to change list into dataframe for easy use"
   ]
  },
  {
   "cell_type": "code",
   "execution_count": null,
   "metadata": {},
   "outputs": [],
   "source": [
    "df=pd.DataFrame(PCs,columns=['PC1','PC2','PC3'])\n",
    "df.head()"
   ]
  },
  {
   "cell_type": "markdown",
   "metadata": {},
   "source": [
    "## Getting the coeffcinet of each column of data corresponding to PC1,PC2,PC3"
   ]
  },
  {
   "cell_type": "code",
   "execution_count": null,
   "metadata": {},
   "outputs": [],
   "source": [
    "model_PCA.components_"
   ]
  },
  {
   "cell_type": "code",
   "execution_count": null,
   "metadata": {},
   "outputs": [],
   "source": [
    "pd.DataFrame(model_PCA.components_)"
   ]
  },
  {
   "cell_type": "code",
   "execution_count": null,
   "metadata": {},
   "outputs": [],
   "source": [
    "pd.DataFrame(model_PCA.components_,columns=data.columns, index=['PC1','PC2','PC3']).transpose()"
   ]
  },
  {
   "cell_type": "markdown",
   "metadata": {},
   "source": [
    "## Logic Behind PCs--- Mean=0"
   ]
  },
  {
   "cell_type": "code",
   "execution_count": null,
   "metadata": {},
   "outputs": [],
   "source": [
    "round(df.describe(),2)"
   ]
  },
  {
   "cell_type": "markdown",
   "metadata": {},
   "source": [
    "# Distortion Calculation"
   ]
  },
  {
   "cell_type": "code",
   "execution_count": null,
   "metadata": {},
   "outputs": [],
   "source": [
    "distortion=[]\n",
    " \n",
    "for i in range(1,15):\n",
    "    model = KMeans(n_clusters=i,init='k-means++',n_init=10,max_iter=50,random_state=1234)\n",
    "    model.fit(df)\n",
    "    distortion.append(model.inertia_)\n",
    "    print(\"Count of Clusters:{} \".format(i) , \"Distortion:{}\".format(round(model.inertia_,2)))\n",
    "    \n",
    "#plot the distortion   \n",
    "px.line(x=range(1,15),y=distortion,title=\"Distortion Vs Count of Clusters\")\n",
    "#make cluster and calculate the cluster distortion \n",
    "#1 cluster distortion is 90 but it get reduced as we make many clusters and finally it becomes flat as we can see in the graph"
   ]
  },
  {
   "cell_type": "markdown",
   "metadata": {},
   "source": [
    "# Creating Final Cluster"
   ]
  },
  {
   "cell_type": "code",
   "execution_count": null,
   "metadata": {},
   "outputs": [],
   "source": [
    "model = KMeans(n_clusters=7,init='k-means++',n_init=10,max_iter=50,random_state=1234)\n",
    "cluster_number=model.fit_predict(df)"
   ]
  },
  {
   "cell_type": "code",
   "execution_count": null,
   "metadata": {},
   "outputs": [],
   "source": [
    "len(cluster_number)"
   ]
  },
  {
   "cell_type": "code",
   "execution_count": null,
   "metadata": {},
   "outputs": [],
   "source": [
    "cluster_number\n"
   ]
  },
  {
   "cell_type": "code",
   "execution_count": null,
   "metadata": {},
   "outputs": [],
   "source": [
    "np.unique(cluster_number)"
   ]
  },
  {
   "cell_type": "markdown",
   "metadata": {},
   "source": [
    "# Assign Cluster Number to Main Data"
   ]
  },
  {
   "cell_type": "code",
   "execution_count": null,
   "metadata": {},
   "outputs": [],
   "source": [
    "data1=data.copy()\n",
    "data1['cluster_number']=cluster_number.tolist()"
   ]
  },
  {
   "cell_type": "code",
   "execution_count": null,
   "metadata": {},
   "outputs": [],
   "source": [
    "data1['PC1']=df['PC1']\n",
    "data1['PC2']=df['PC2']\n",
    "data1['PC3']=df['PC3']"
   ]
  },
  {
   "cell_type": "code",
   "execution_count": null,
   "metadata": {},
   "outputs": [],
   "source": [
    "data1.head()"
   ]
  },
  {
   "cell_type": "code",
   "execution_count": null,
   "metadata": {},
   "outputs": [],
   "source": [
    "fig=px.scatter_3d(data1,x='PC1',y='PC2',z='PC3', color='cluster_number')\n",
    "fig.show()"
   ]
  },
  {
   "cell_type": "markdown",
   "metadata": {},
   "source": [
    "## Pivot Table for Feature Importance"
   ]
  },
  {
   "cell_type": "code",
   "execution_count": null,
   "metadata": {},
   "outputs": [],
   "source": [
    "pivot_table=pd.pivot_table(data1,index=['cluster_number'],\n",
    "                           values=['PC1','PC2','PC3'],\n",
    "                           aggfunc=[np.min,np.max]\n",
    "                          \n",
    "                          \n",
    "                          )\n",
    "\n",
    "\n",
    "flat=pd.DataFrame(pivot_table.to_records())\n",
    "flat\n",
    "\n",
    "flat.columns = [hdr.replace(\"('a\", \"\").replace(\"', '\",\"_\").replace(\"')\",\"\") for hdr in flat.columns]\n",
    "flat\n"
   ]
  },
  {
   "cell_type": "code",
   "execution_count": null,
   "metadata": {},
   "outputs": [],
   "source": [
    "PC_importance = pd.DataFrame(model_PCA.components_,columns=data.columns,index=['PC1','PC2','PC3'])"
   ]
  },
  {
   "cell_type": "code",
   "execution_count": null,
   "metadata": {},
   "outputs": [],
   "source": [
    "PC_importance.style.background_gradient(cmap='coolwarm')"
   ]
  },
  {
   "cell_type": "code",
   "execution_count": null,
   "metadata": {},
   "outputs": [],
   "source": [
    "# Adding global minimum and maximum\n",
    "\n",
    "flat['PC1_G_min']=data1['PC1'].min()\n",
    "flat['PC1_G_max']=data1['PC1'].max()\n",
    "\n",
    "flat['PC2_G_min']=data1['PC2'].min()\n",
    "flat['PC2_G_max']=data1['PC2'].max()\n",
    "\n",
    "flat['PC3_G_min']=data1['PC3'].min()\n",
    "flat['PC3_G_max']=data1['PC3'].max()\n"
   ]
  },
  {
   "cell_type": "code",
   "execution_count": null,
   "metadata": {},
   "outputs": [],
   "source": [
    "round(flat.transpose(),2)"
   ]
  },
  {
   "cell_type": "markdown",
   "metadata": {},
   "source": [
    "## Feature Impact::\n",
    "1 PC1\n",
    "\n",
    "  a.Positive --Mat_x,NO,HS,SR_x ---cluster 4\n",
    "  \n",
    "  b.negative--Mat_y,wkts,Econ,SR_y,X4w,X5w---cluster 6\n",
    "  \n",
    "2 PC2\n",
    "\n",
    "  a.Positive --Mat_y,Wkts,Econ,SR_y,X4w,Mat_x,NO--cluster 3\n",
    "  \n",
    "  b.negative--X100,X50,X4s,X6s--cluster 2& 5\n",
    "  \n",
    "3 PC3\n",
    "\n",
    "  a.Positive --X100,X50,X4s,X6s,X5w--cluster 4\n",
    "  \n",
    "  b.negative--Mat_x,NO,HS,Avg_x,SR_x---cluster 1,3"
   ]
  },
  {
   "cell_type": "markdown",
   "metadata": {},
   "source": [
    "# Write the cluster number to originl dataset"
   ]
  },
  {
   "cell_type": "code",
   "execution_count": null,
   "metadata": {},
   "outputs": [],
   "source": [
    "real_data=pd.read_csv('IPL.csv')\n",
    "\n",
    "real_data['cluster_number']=cluster_number\n",
    "\n",
    "real_data.to_csv('IPL_WithCluster.csv',index=False)"
   ]
  },
  {
   "cell_type": "code",
   "execution_count": null,
   "metadata": {},
   "outputs": [],
   "source": []
  },
  {
   "cell_type": "code",
   "execution_count": null,
   "metadata": {},
   "outputs": [],
   "source": []
  },
  {
   "cell_type": "code",
   "execution_count": null,
   "metadata": {},
   "outputs": [],
   "source": []
  },
  {
   "cell_type": "code",
   "execution_count": null,
   "metadata": {},
   "outputs": [],
   "source": []
  },
  {
   "cell_type": "code",
   "execution_count": null,
   "metadata": {},
   "outputs": [],
   "source": []
  },
  {
   "cell_type": "code",
   "execution_count": null,
   "metadata": {},
   "outputs": [],
   "source": []
  },
  {
   "cell_type": "code",
   "execution_count": null,
   "metadata": {},
   "outputs": [],
   "source": []
  },
  {
   "cell_type": "code",
   "execution_count": null,
   "metadata": {},
   "outputs": [],
   "source": []
  },
  {
   "cell_type": "code",
   "execution_count": null,
   "metadata": {},
   "outputs": [],
   "source": []
  },
  {
   "cell_type": "code",
   "execution_count": null,
   "metadata": {},
   "outputs": [],
   "source": []
  },
  {
   "cell_type": "code",
   "execution_count": null,
   "metadata": {},
   "outputs": [],
   "source": []
  },
  {
   "cell_type": "code",
   "execution_count": null,
   "metadata": {},
   "outputs": [],
   "source": []
  },
  {
   "cell_type": "code",
   "execution_count": null,
   "metadata": {},
   "outputs": [],
   "source": []
  },
  {
   "cell_type": "code",
   "execution_count": null,
   "metadata": {},
   "outputs": [],
   "source": []
  },
  {
   "cell_type": "code",
   "execution_count": null,
   "metadata": {},
   "outputs": [],
   "source": []
  },
  {
   "cell_type": "code",
   "execution_count": null,
   "metadata": {},
   "outputs": [],
   "source": []
  }
 ],
 "metadata": {
  "kernelspec": {
   "display_name": "Python 3",
   "language": "python",
   "name": "python3"
  },
  "language_info": {
   "codemirror_mode": {
    "name": "ipython",
    "version": 3
   },
   "file_extension": ".py",
   "mimetype": "text/x-python",
   "name": "python",
   "nbconvert_exporter": "python",
   "pygments_lexer": "ipython3",
   "version": "3.7.6"
  }
 },
 "nbformat": 4,
 "nbformat_minor": 4
}
