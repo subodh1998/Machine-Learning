{
 "cells": [
  {
   "cell_type": "code",
   "execution_count": null,
   "metadata": {},
   "outputs": [],
   "source": [
    "import statsmodels  \n",
    "statsmodels.__version__\n",
    "#pip install statsmodels --upgrade --user (if version is older of statsmodel.)\n",
    "\n",
    "import pandas as pd\n",
    "import numpy as np\n",
    "import plotly.graph_objects as go\n",
    "import matplotlib.pyplot as plt\n",
    "import warnings\n",
    "warnings.filterwarnings('ignore')\n",
    "\n",
    "## 5 Differernt models for time series analysis\n",
    "from statsmodels.tsa.seasonal import seasonal_decompose\n",
    "from statsmodels.tsa.holtwinters import SimpleExpSmoothing\n",
    "from statsmodels.tsa.holtwinters import ExponentialSmoothing\n",
    "from statsmodels.tsa.ar_model import AutoReg\n",
    "from statsmodels.tsa.arima_model import ARMA\n",
    "from statsmodels.tsa.arima_model import ARIMA\n",
    "\n",
    "from sklearn.metrics import mean_absolute_error"
   ]
  },
  {
   "cell_type": "code",
   "execution_count": null,
   "metadata": {},
   "outputs": [],
   "source": [
    "data=pd.read_csv('ads.csv',parse_dates=['Time'],index_col=['Time'])\n",
    "#to set the data and time as index"
   ]
  },
  {
   "cell_type": "markdown",
   "metadata": {},
   "source": [
    "# Sort index"
   ]
  },
  {
   "cell_type": "code",
   "execution_count": null,
   "metadata": {},
   "outputs": [],
   "source": [
    "data=data.sort_index()"
   ]
  },
  {
   "cell_type": "markdown",
   "metadata": {},
   "source": [
    "# Get the frequency"
   ]
  },
  {
   "cell_type": "code",
   "execution_count": null,
   "metadata": {},
   "outputs": [],
   "source": [
    "pd.infer_freq(data.index)"
   ]
  },
  {
   "cell_type": "markdown",
   "metadata": {},
   "source": [
    "# Mape def"
   ]
  },
  {
   "cell_type": "code",
   "execution_count": null,
   "metadata": {},
   "outputs": [],
   "source": [
    "def mean_absolute_percentage_error(actual,predicted):\n",
    "    return round(np.mean(np.abs(100*(actual-predicted)/actual)),2)"
   ]
  },
  {
   "cell_type": "markdown",
   "metadata": {},
   "source": [
    "# split data in 30-70%"
   ]
  },
  {
   "cell_type": "code",
   "execution_count": null,
   "metadata": {},
   "outputs": [],
   "source": [
    "split=int(len(data)*0.7) ### 0.7 for 70% data----cahnge as per requirement\n",
    "#data.index.freq= 'H' either this ot next comand use fot freq\n",
    "data.index.freq=pd.infer_freq(data.index)\n",
    "train = data.iloc[:split,0] #151 lines in train\n",
    "test = data.iloc[split:,0]"
   ]
  },
  {
   "cell_type": "markdown",
   "metadata": {},
   "source": [
    "# Smoothing\n",
    "1.Seasonality Smoothing\n",
    "\n",
    "2.Trend Smoothing\n",
    "\n",
    "3.Trend Dampning"
   ]
  },
  {
   "cell_type": "markdown",
   "metadata": {},
   "source": [
    "# single exponential smoothing"
   ]
  },
  {
   "cell_type": "code",
   "execution_count": null,
   "metadata": {},
   "outputs": [],
   "source": [
    "\n",
    "model=SimpleExpSmoothing(train)  \n",
    "model_fit=model.fit()\n",
    "\n",
    "\n",
    "pred=model_fit.predict(start=test.index[0],end=test.index[-1])\n",
    "MAPE=mean_absolute_percentage_error(test,pred)\n",
    "\n",
    "fig = go.Figure()\n",
    "fig.add_trace(go.Scatter(x=train.index,y=train, mode='lines',name='Train'))\n",
    "fig.add_trace(go.Scatter(x=test.index,y=test, mode='lines',name='Test'))\n",
    "fig.add_trace(go.Scatter(x=pred.index,y=pred, mode='lines',name='Predict'))\n",
    "fig.update_layout(title='Accuracy:{}%'.format(100-MAPE))\n",
    "fig.show()"
   ]
  },
  {
   "cell_type": "markdown",
   "metadata": {},
   "source": [
    "# Double Exponential Smoothing"
   ]
  },
  {
   "cell_type": "code",
   "execution_count": null,
   "metadata": {
    "scrolled": true
   },
   "outputs": [],
   "source": [
    "model=ExponentialSmoothing(train, trend= 'additive', seasonal='additive',seasonal_periods=24)  \n",
    "model_fit=model.fit()\n",
    "\n",
    "\n",
    "pred=model_fit.predict(start=test.index[0],end=test.index[-1])\n",
    "MAPE=mean_absolute_percentage_error(test,pred)\n",
    "\n",
    "fig = go.Figure()\n",
    "fig.add_trace(go.Scatter(x=train.index,y=train, mode='lines',name='Train'))\n",
    "fig.add_trace(go.Scatter(x=test.index,y=test, mode='lines',name='Test'))\n",
    "fig.add_trace(go.Scatter(x=pred.index,y=pred, mode='lines',name='Predict'))\n",
    "fig.update_layout(title='Accuracy:{}%'.format(100-MAPE))\n",
    "fig.show()"
   ]
  },
  {
   "cell_type": "markdown",
   "metadata": {},
   "source": [
    "# Holt Winters method --Triple Exponential Smoothing"
   ]
  },
  {
   "cell_type": "code",
   "execution_count": null,
   "metadata": {},
   "outputs": [],
   "source": [
    "model=ExponentialSmoothing(train, trend= 'additive', seasonal='additive',damped=True,seasonal_periods=24)  \n",
    "model_fit=model.fit()\n",
    "\n",
    "\n",
    "pred=model_fit.predict(start=test.index[0],end=test.index[-1])\n",
    "MAPE=mean_absolute_percentage_error(test,pred)\n",
    "\n",
    "fig = go.Figure()\n",
    "fig.add_trace(go.Scatter(x=train.index,y=train, mode='lines',name='Train'))\n",
    "fig.add_trace(go.Scatter(x=test.index,y=test, mode='lines',name='Test'))\n",
    "fig.add_trace(go.Scatter(x=pred.index,y=pred, mode='lines',name='Predict'))\n",
    "fig.update_layout(title='Accuracy:{}%'.format(100-MAPE))\n",
    "fig.show()"
   ]
  },
  {
   "cell_type": "markdown",
   "metadata": {},
   "source": [
    "### Seasonal Periods:\n",
    "    1 second-60\n",
    "    2.minute-60\n",
    "    3.hour-24\n",
    "    4.day-7\n",
    "    5.week-52 ---weeks are not fixes for a month.. hence go           from week to year\n",
    "    6.months-12"
   ]
  },
  {
   "cell_type": "markdown",
   "metadata": {},
   "source": [
    "Here Holt Winters Model was very accurate so it is selected"
   ]
  },
  {
   "cell_type": "code",
   "execution_count": null,
   "metadata": {},
   "outputs": [],
   "source": []
  },
  {
   "cell_type": "code",
   "execution_count": null,
   "metadata": {},
   "outputs": [],
   "source": []
  },
  {
   "cell_type": "code",
   "execution_count": null,
   "metadata": {},
   "outputs": [],
   "source": []
  },
  {
   "cell_type": "code",
   "execution_count": null,
   "metadata": {},
   "outputs": [],
   "source": []
  },
  {
   "cell_type": "code",
   "execution_count": null,
   "metadata": {},
   "outputs": [],
   "source": []
  },
  {
   "cell_type": "code",
   "execution_count": null,
   "metadata": {},
   "outputs": [],
   "source": []
  },
  {
   "cell_type": "code",
   "execution_count": null,
   "metadata": {},
   "outputs": [],
   "source": []
  },
  {
   "cell_type": "code",
   "execution_count": null,
   "metadata": {},
   "outputs": [],
   "source": []
  },
  {
   "cell_type": "code",
   "execution_count": null,
   "metadata": {},
   "outputs": [],
   "source": []
  },
  {
   "cell_type": "code",
   "execution_count": null,
   "metadata": {},
   "outputs": [],
   "source": []
  },
  {
   "cell_type": "code",
   "execution_count": null,
   "metadata": {},
   "outputs": [],
   "source": []
  },
  {
   "cell_type": "code",
   "execution_count": null,
   "metadata": {},
   "outputs": [],
   "source": []
  },
  {
   "cell_type": "code",
   "execution_count": null,
   "metadata": {},
   "outputs": [],
   "source": []
  },
  {
   "cell_type": "code",
   "execution_count": null,
   "metadata": {},
   "outputs": [],
   "source": []
  },
  {
   "cell_type": "code",
   "execution_count": null,
   "metadata": {},
   "outputs": [],
   "source": []
  },
  {
   "cell_type": "code",
   "execution_count": null,
   "metadata": {},
   "outputs": [],
   "source": []
  },
  {
   "cell_type": "code",
   "execution_count": null,
   "metadata": {},
   "outputs": [],
   "source": []
  },
  {
   "cell_type": "code",
   "execution_count": null,
   "metadata": {},
   "outputs": [],
   "source": []
  }
 ],
 "metadata": {
  "kernelspec": {
   "display_name": "Python 3",
   "language": "python",
   "name": "python3"
  },
  "language_info": {
   "codemirror_mode": {
    "name": "ipython",
    "version": 3
   },
   "file_extension": ".py",
   "mimetype": "text/x-python",
   "name": "python",
   "nbconvert_exporter": "python",
   "pygments_lexer": "ipython3",
   "version": "3.7.6"
  }
 },
 "nbformat": 4,
 "nbformat_minor": 4
}
