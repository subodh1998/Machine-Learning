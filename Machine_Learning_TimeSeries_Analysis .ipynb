{
 "cells": [
  {
   "cell_type": "code",
   "execution_count": null,
   "metadata": {},
   "outputs": [],
   "source": [
    "import statsmodels  \n",
    "statsmodels.__version__\n",
    "#pip install statsmodels --upgrade --user (if version is older of statsmodel.)\n",
    "\n",
    "import pandas as pd\n",
    "import numpy as np\n",
    "import plotly.graph_objects as go\n",
    "import matplotlib.pyplot as plt\n",
    "import warnings\n",
    "warnings.filterwarnings('ignore')\n",
    "\n",
    "## 5 Differernt models for time series analysis\n",
    "from statsmodels.tsa.seasonal import seasonal_decompose\n",
    "from statsmodels.tsa.holtwinters import SimpleExpSmoothing\n",
    "from statsmodels.tsa.holtwinters import ExponentialSmoothing\n",
    "from statsmodels.tsa.ar_model import AutoReg\n",
    "from statsmodels.tsa.arima_model import ARMA\n",
    "from statsmodels.tsa.arima_model import ARIMA\n",
    "\n",
    "from sklearn.metrics import mean_absolute_error"
   ]
  },
  {
   "cell_type": "code",
   "execution_count": null,
   "metadata": {},
   "outputs": [],
   "source": [
    "data=pd.read_csv(r'ads.csv')"
   ]
  },
  {
   "cell_type": "code",
   "execution_count": null,
   "metadata": {},
   "outputs": [],
   "source": [
    "data.head()"
   ]
  },
  {
   "cell_type": "code",
   "execution_count": null,
   "metadata": {},
   "outputs": [],
   "source": [
    "data.info()"
   ]
  },
  {
   "cell_type": "code",
   "execution_count": null,
   "metadata": {},
   "outputs": [],
   "source": [
    "data=pd.read_csv('ads.csv', parse_dates=['Time']) #for converting into datetime64[ns]"
   ]
  },
  {
   "cell_type": "code",
   "execution_count": null,
   "metadata": {},
   "outputs": [],
   "source": [
    "data.head()"
   ]
  },
  {
   "cell_type": "code",
   "execution_count": null,
   "metadata": {},
   "outputs": [],
   "source": [
    "data.info()"
   ]
  },
  {
   "cell_type": "code",
   "execution_count": null,
   "metadata": {},
   "outputs": [],
   "source": [
    "data.head()"
   ]
  },
  {
   "cell_type": "code",
   "execution_count": null,
   "metadata": {},
   "outputs": [],
   "source": [
    "data=pd.read_csv('ads.csv',parse_dates=['Time'],index_col=['Time'])\n",
    "#to set the data and time as index"
   ]
  },
  {
   "cell_type": "code",
   "execution_count": null,
   "metadata": {},
   "outputs": [],
   "source": [
    "data.head()"
   ]
  },
  {
   "cell_type": "code",
   "execution_count": null,
   "metadata": {},
   "outputs": [],
   "source": [
    "data.info()"
   ]
  },
  {
   "cell_type": "code",
   "execution_count": null,
   "metadata": {},
   "outputs": [],
   "source": [
    "data.index.sort_values()  \n",
    "#command for sorting the index time and date "
   ]
  },
  {
   "cell_type": "code",
   "execution_count": null,
   "metadata": {},
   "outputs": [],
   "source": [
    "#data=data.Ads.sort_values() #to sort by any column of the dataset"
   ]
  },
  {
   "cell_type": "code",
   "execution_count": null,
   "metadata": {},
   "outputs": [],
   "source": [
    "#data.head()"
   ]
  },
  {
   "cell_type": "code",
   "execution_count": null,
   "metadata": {},
   "outputs": [],
   "source": []
  },
  {
   "cell_type": "markdown",
   "metadata": {},
   "source": [
    "# Sort By Index"
   ]
  },
  {
   "cell_type": "code",
   "execution_count": null,
   "metadata": {},
   "outputs": [],
   "source": [
    "data=data.sort_index()"
   ]
  },
  {
   "cell_type": "code",
   "execution_count": null,
   "metadata": {},
   "outputs": [],
   "source": [
    "data.head()"
   ]
  },
  {
   "cell_type": "markdown",
   "metadata": {},
   "source": [
    "# Get the frequency of the Time/Date Data"
   ]
  },
  {
   "cell_type": "code",
   "execution_count": null,
   "metadata": {},
   "outputs": [],
   "source": [
    "pd.infer_freq(data.index) \n",
    "#to calculate the freq of data/time column i.e index column in our case"
   ]
  },
  {
   "cell_type": "markdown",
   "metadata": {},
   "source": [
    "Preprocessing done"
   ]
  },
  {
   "cell_type": "markdown",
   "metadata": {},
   "source": [
    "# Visualize the data"
   ]
  },
  {
   "cell_type": "code",
   "execution_count": null,
   "metadata": {},
   "outputs": [],
   "source": [
    "fig=go.Figure(go.Scatter(x=data.index, y=data.Ads,mode='lines'))\n",
    "fig.show()"
   ]
  },
  {
   "cell_type": "code",
   "execution_count": null,
   "metadata": {},
   "outputs": [],
   "source": [
    "data.Ads"
   ]
  },
  {
   "cell_type": "code",
   "execution_count": null,
   "metadata": {},
   "outputs": [],
   "source": [
    "data.index"
   ]
  },
  {
   "cell_type": "markdown",
   "metadata": {},
   "source": [
    "# Decompose the above chart using matplotlib"
   ]
  },
  {
   "cell_type": "code",
   "execution_count": null,
   "metadata": {},
   "outputs": [],
   "source": [
    "decomposed_data=seasonal_decompose(data,model='additive')\n",
    "decomposed_data"
   ]
  },
  {
   "cell_type": "code",
   "execution_count": null,
   "metadata": {},
   "outputs": [],
   "source": [
    "type(decomposed_data)"
   ]
  },
  {
   "cell_type": "code",
   "execution_count": null,
   "metadata": {},
   "outputs": [],
   "source": [
    "plt.rcParams['figure.figsize']=[20,10]\n",
    "plt.rcParams.update({'font.size':20})\n",
    " \n",
    "decomposed_data.plot()\n",
    "plt.show()"
   ]
  },
  {
   "cell_type": "markdown",
   "metadata": {},
   "source": [
    "# Multiplicative Method"
   ]
  },
  {
   "cell_type": "code",
   "execution_count": null,
   "metadata": {},
   "outputs": [],
   "source": [
    "decomposed_data=seasonal_decompose(data,model='multiplicative')\n"
   ]
  },
  {
   "cell_type": "code",
   "execution_count": null,
   "metadata": {
    "scrolled": true
   },
   "outputs": [],
   "source": [
    "plt.rcParams['figure.figsize']=[20,10]\n",
    "plt.rcParams.update({'font.size':20})\n",
    " \n",
    "    \n",
    "decomposed_data.plot()\n",
    "plt.show()"
   ]
  },
  {
   "cell_type": "markdown",
   "metadata": {},
   "source": [
    "# Calculate the Moving Average"
   ]
  },
  {
   "cell_type": "code",
   "execution_count": null,
   "metadata": {},
   "outputs": [],
   "source": [
    "i=12\n",
    "data['MA']=data.rolling(i).mean()\n",
    "#calculating moving avg for smooth graph\n",
    "\n",
    "data.head(i+1)"
   ]
  },
  {
   "cell_type": "code",
   "execution_count": null,
   "metadata": {},
   "outputs": [],
   "source": [
    "mae=mean_absolute_error(data.Ads[i:],data.MA[i:])\n",
    "round(mae,2)\n",
    "\n",
    "print(\"Mean Absolute Error:{}\".format(round(mae,2)))"
   ]
  },
  {
   "cell_type": "code",
   "execution_count": null,
   "metadata": {},
   "outputs": [],
   "source": [
    "fig=go.Figure(go.Scatter(x=data.index, y=data.Ads,mode='lines'))\n",
    "\n",
    "fig.add_trace(go.Scatter(x=data.index,y=data.MA,mode='lines'))\n",
    "fig.update_layout(title=\"Mean_Absolute_Error:{}\".format(round(mae,2)))\n",
    "fig.show()"
   ]
  },
  {
   "cell_type": "markdown",
   "metadata": {},
   "source": [
    "## Calculating Mean Absolute percentage error & Accuracy"
   ]
  },
  {
   "cell_type": "code",
   "execution_count": null,
   "metadata": {},
   "outputs": [],
   "source": [
    "def mean_absolute_percentage_error(actual,predicted):\n",
    "    return round(np.mean(np.abs(100*(actual-predicted)/actual)),2)"
   ]
  },
  {
   "cell_type": "code",
   "execution_count": null,
   "metadata": {},
   "outputs": [],
   "source": [
    "mape=mean_absolute_percentage_error(data.Ads[i:],data.MA[i:])\n",
    "mape"
   ]
  },
  {
   "cell_type": "code",
   "execution_count": null,
   "metadata": {},
   "outputs": [],
   "source": [
    "Accuracy=100-mape\n",
    "Accuracy"
   ]
  },
  {
   "cell_type": "markdown",
   "metadata": {},
   "source": [
    "# Split data into test train"
   ]
  },
  {
   "cell_type": "code",
   "execution_count": null,
   "metadata": {},
   "outputs": [],
   "source": [
    "split=int(len(data)*0.7) ### 0.7 for 70% data----cahnge as per requirement\n",
    "#data.index.freq= 'H' either this ot next comand use fot freq\n",
    "data.index.freq=pd.infer_freq(data.index)\n",
    "train = data.iloc[:split,0] #151 lines in train\n",
    "test = data.iloc[split:,0]\n"
   ]
  },
  {
   "cell_type": "markdown",
   "metadata": {},
   "source": [
    "1.AR -- Auto Regression-- it considers that current value is dependent on previous n values\n",
    "\n",
    "2.Moving Avg: Uses last n values to calculate rolling avg and uses it for the prediction\n",
    "\n",
    "3.ARMA: Is the model developed to apply both AR and MA Methoda,we can specify n values as 0 if we dont want to use either of them."
   ]
  },
  {
   "cell_type": "code",
   "execution_count": null,
   "metadata": {},
   "outputs": [],
   "source": [
    "train"
   ]
  },
  {
   "cell_type": "code",
   "execution_count": null,
   "metadata": {},
   "outputs": [],
   "source": [
    "test"
   ]
  },
  {
   "cell_type": "markdown",
   "metadata": {},
   "source": [
    "# Moving Average"
   ]
  },
  {
   "cell_type": "markdown",
   "metadata": {},
   "source": [
    "###  Step 1. Train Model"
   ]
  },
  {
   "cell_type": "code",
   "execution_count": null,
   "metadata": {},
   "outputs": [],
   "source": [
    "model = ARMA(train,order = (0,5),freq='H')# 0 for AR and 5 for MA\n",
    "model_fit=model.fit()"
   ]
  },
  {
   "cell_type": "markdown",
   "metadata": {},
   "source": [
    "### Step 2.Predict Result"
   ]
  },
  {
   "cell_type": "code",
   "execution_count": null,
   "metadata": {},
   "outputs": [],
   "source": [
    "pred=model_fit.predict(start=test.index[0],end=test.index[-1])\n",
    "pred"
   ]
  },
  {
   "cell_type": "markdown",
   "metadata": {},
   "source": [
    "### Step 3. Error calculation"
   ]
  },
  {
   "cell_type": "code",
   "execution_count": null,
   "metadata": {},
   "outputs": [],
   "source": [
    "MAPE=mean_absolute_percentage_error(test,pred)\n",
    "print('Mean Absolute Percentage Error :{}'.format(MAPE))\n",
    "print('Accuracy:{}'.format(100-MAPE))"
   ]
  },
  {
   "cell_type": "markdown",
   "metadata": {},
   "source": [
    "### Step 4.Plot the Predicted values"
   ]
  },
  {
   "cell_type": "code",
   "execution_count": null,
   "metadata": {},
   "outputs": [],
   "source": [
    "fig = go.Figure()\n",
    "fig.add_trace(go.Scatter(x=train.index,y=train, mode='lines',name='Train'))\n",
    "fig.add_trace(go.Scatter(x=test.index,y=test, mode='lines',name='Test'))\n",
    "fig.add_trace(go.Scatter(x=pred.index,y=pred, mode='lines',name='Predict'))\n",
    "fig.update_layout(title='Accuracy:{}%'.format(100-MAPE))\n",
    "fig.show()"
   ]
  },
  {
   "cell_type": "markdown",
   "metadata": {},
   "source": [
    "# AutoRegression"
   ]
  },
  {
   "cell_type": "code",
   "execution_count": null,
   "metadata": {},
   "outputs": [],
   "source": [
    "#step1\n",
    "model=ARMA(train,order=(15,0),freq='H') #AR at degree 12 refer phone  AR Pic\n",
    "#RA=2 and MA=0\n",
    "model_fit=model.fit()\n",
    "\n",
    "#step2 & step 3\n",
    "# Prediction and accuracy calculation\n",
    "pred=model_fit.predict(start=test.index[0],end=test.index[-1])\n",
    "MAPE=mean_absolute_percentage_error(test,pred)\n",
    "\n",
    "#step4\n",
    "#plotting the figure\n",
    "fig = go.Figure()\n",
    "fig.add_trace(go.Scatter(x=train.index,y=train, mode='lines',name='Train'))\n",
    "fig.add_trace(go.Scatter(x=test.index,y=test, mode='lines',name='Test'))\n",
    "fig.add_trace(go.Scatter(x=pred.index,y=pred, mode='lines',name='Predict'))\n",
    "fig.update_layout(title='Accuracy:{}%'.format(100-MAPE))\n",
    "fig.show()"
   ]
  },
  {
   "cell_type": "markdown",
   "metadata": {},
   "source": [
    "# Auto Regressive Moving Average"
   ]
  },
  {
   "cell_type": "code",
   "execution_count": null,
   "metadata": {},
   "outputs": [],
   "source": [
    "#step1\n",
    "model=ARMA(train,order=(15,6),freq='H')  \n",
    "#AR=15 and MA=6\n",
    "model_fit=model.fit()\n",
    "\n",
    "#step2 & step 3\n",
    "# Prediction and accuracy calculation\n",
    "pred=model_fit.predict(start=test.index[0],end=test.index[-1])\n",
    "MAPE=mean_absolute_percentage_error(test,pred)\n",
    "\n",
    "#step4\n",
    "#plotting the figure\n",
    "fig = go.Figure()\n",
    "fig.add_trace(go.Scatter(x=train.index,y=train, mode='lines',name='Train'))\n",
    "fig.add_trace(go.Scatter(x=test.index,y=test, mode='lines',name='Test'))\n",
    "fig.add_trace(go.Scatter(x=pred.index,y=pred, mode='lines',name='Predict'))\n",
    "fig.update_layout(title='Accuracy:{}%'.format(100-MAPE))\n",
    "fig.show()"
   ]
  },
  {
   "cell_type": "markdown",
   "metadata": {},
   "source": [
    "# ARIMA-- Auto Regression Integrated Moving Average"
   ]
  },
  {
   "cell_type": "code",
   "execution_count": null,
   "metadata": {},
   "outputs": [],
   "source": [
    "#step1\n",
    "model=ARIMA(train,order=(12,1,6),freq='H')  \n",
    "#AR=2 I=1 MA=2\n",
    "model_fit=model.fit(disp = False)\n",
    "\n",
    "#step2 & step 3\n",
    "# Prediction and accuracy calculation\n",
    "pred=model_fit.predict(start=test.index[0],end=test.index[-1],typ='levels')\n",
    "MAPE=mean_absolute_percentage_error(test,pred)\n",
    "\n",
    "#step4\n",
    "#plotting the figure\n",
    "fig = go.Figure()\n",
    "fig.add_trace(go.Scatter(x=train.index,y=train, mode='lines',name='Train'))\n",
    "fig.add_trace(go.Scatter(x=test.index,y=test, mode='lines',name='Test'))\n",
    "fig.add_trace(go.Scatter(x=pred.index,y=pred, mode='lines',name='Predict'))\n",
    "fig.update_layout(title='Accuracy:{}%'.format(100-MAPE))\n",
    "fig.show()"
   ]
  },
  {
   "cell_type": "code",
   "execution_count": null,
   "metadata": {},
   "outputs": [],
   "source": []
  },
  {
   "cell_type": "code",
   "execution_count": null,
   "metadata": {},
   "outputs": [],
   "source": []
  },
  {
   "cell_type": "code",
   "execution_count": null,
   "metadata": {},
   "outputs": [],
   "source": []
  },
  {
   "cell_type": "code",
   "execution_count": null,
   "metadata": {},
   "outputs": [],
   "source": []
  },
  {
   "cell_type": "code",
   "execution_count": null,
   "metadata": {},
   "outputs": [],
   "source": []
  },
  {
   "cell_type": "code",
   "execution_count": null,
   "metadata": {},
   "outputs": [],
   "source": []
  },
  {
   "cell_type": "code",
   "execution_count": null,
   "metadata": {},
   "outputs": [],
   "source": []
  },
  {
   "cell_type": "code",
   "execution_count": null,
   "metadata": {},
   "outputs": [],
   "source": []
  },
  {
   "cell_type": "code",
   "execution_count": null,
   "metadata": {},
   "outputs": [],
   "source": []
  },
  {
   "cell_type": "code",
   "execution_count": null,
   "metadata": {},
   "outputs": [],
   "source": []
  },
  {
   "cell_type": "code",
   "execution_count": null,
   "metadata": {},
   "outputs": [],
   "source": []
  },
  {
   "cell_type": "code",
   "execution_count": null,
   "metadata": {},
   "outputs": [],
   "source": []
  },
  {
   "cell_type": "code",
   "execution_count": null,
   "metadata": {},
   "outputs": [],
   "source": []
  },
  {
   "cell_type": "code",
   "execution_count": null,
   "metadata": {},
   "outputs": [],
   "source": []
  },
  {
   "cell_type": "code",
   "execution_count": null,
   "metadata": {},
   "outputs": [],
   "source": []
  },
  {
   "cell_type": "code",
   "execution_count": null,
   "metadata": {},
   "outputs": [],
   "source": []
  }
 ],
 "metadata": {
  "kernelspec": {
   "display_name": "Python 3",
   "language": "python",
   "name": "python3"
  },
  "language_info": {
   "codemirror_mode": {
    "name": "ipython",
    "version": 3
   },
   "file_extension": ".py",
   "mimetype": "text/x-python",
   "name": "python",
   "nbconvert_exporter": "python",
   "pygments_lexer": "ipython3",
   "version": "3.7.6"
  }
 },
 "nbformat": 4,
 "nbformat_minor": 4
}
